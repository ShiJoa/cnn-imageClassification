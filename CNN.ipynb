{
 "cells": [
  {
   "cell_type": "code",
   "execution_count": 1,
   "id": "a08b6622",
   "metadata": {},
   "outputs": [],
   "source": [
    "import torch\n",
    "\n",
    "#系统变量\n",
    "batch_size=8\n",
    "device=torch.device(\"cuda:0\"if torch.cuda.is_available() else \"cpu\")\n",
    "epochs=10"
   ]
  },
  {
   "cell_type": "code",
   "execution_count": 2,
   "id": "4dabd519",
   "metadata": {},
   "outputs": [],
   "source": [
    "def load_image(path):\n",
    "    import cv2\n",
    "    import numpy as np\n",
    "    import os\n",
    "\n",
    "    data = []\n",
    "    flag = []\n",
    "    for fileName in os.listdir(path):\n",
    "        if not fileName.endswith(\".jpg\"):\n",
    "            continue\n",
    "\n",
    "        #用opencv读取图片\n",
    "        x=cv2.imread(path+\"/\"+fileName)\n",
    "\n",
    "        #数值压缩到0-1之间\n",
    "        x=torch.FloatTensor(np.array(x))/255\n",
    "\n",
    "        #变形，使通道数在前面\n",
    "        x=x.permute(2,0,1)\n",
    "\n",
    "        #标签\n",
    "        y=int(fileName[0])\n",
    "\n",
    "        data.append(x)\n",
    "        flag.append(y)\n",
    "\n",
    "    return data,flag\n"
   ]
  },
  {
   "cell_type": "code",
   "execution_count": 3,
   "id": "1c296cb5",
   "metadata": {},
   "outputs": [],
   "source": [
    "#读取数据\n",
    "data,flag=load_image(\"data\\cifar10\")"
   ]
  },
  {
   "cell_type": "code",
   "execution_count": 4,
   "id": "d441ad45",
   "metadata": {},
   "outputs": [
    {
     "data": {
      "text/plain": [
       "(60000, 60000, torch.Size([3, 32, 32]))"
      ]
     },
     "execution_count": 4,
     "metadata": {},
     "output_type": "execute_result"
    }
   ],
   "source": [
    "len(data),len(flag),data[0].shape"
   ]
  },
  {
   "cell_type": "code",
   "execution_count": 5,
   "id": "aaa2180f",
   "metadata": {},
   "outputs": [],
   "source": [
    "#定义数据集\n",
    "class Dataset(torch.utils.data.Dataset):\n",
    "    def __len__(self):\n",
    "        return len(data)\n",
    "    def __getitem__(self, item):\n",
    "        return data[item],flag[item]"
   ]
  },
  {
   "cell_type": "code",
   "execution_count": 6,
   "id": "b2910702",
   "metadata": {},
   "outputs": [],
   "source": [
    "#建立数据集\n",
    "dataset=Dataset()"
   ]
  },
  {
   "cell_type": "code",
   "execution_count": 7,
   "id": "20d739c2",
   "metadata": {},
   "outputs": [],
   "source": [
    "#定义加载器\n",
    "loader=torch.utils.data.DataLoader(dataset=dataset,\n",
    "                                   batch_size=batch_size,\n",
    "                                   shuffle=True,\n",
    "                                   drop_last=True)"
   ]
  },
  {
   "cell_type": "code",
   "execution_count": 8,
   "id": "3d4c10c6",
   "metadata": {},
   "outputs": [],
   "source": [
    "# 定义CNN模型\n",
    "class CNNModule(torch.nn.Module):\n",
    "    def __init__(self):\n",
    "        super().__init__()\n",
    "\n",
    "        # 第一层CNN\n",
    "        self.cnn1 = torch.nn.Conv2d(in_channels=3,\n",
    "                                    out_channels=16,\n",
    "                                    kernel_size=5,\n",
    "                                    stride=2,\n",
    "                                    padding=0)\n",
    "        # 第二层CNN\n",
    "        self.cnn2 = torch.nn.Conv2d(in_channels=16,\n",
    "                                    out_channels=32,\n",
    "                                    kernel_size=3,\n",
    "                                    stride=1,\n",
    "                                    padding=1)\n",
    "\n",
    "        # 一层池化层\n",
    "        self.pool = torch.nn.MaxPool2d(kernel_size=2, stride=2)\n",
    "\n",
    "        # 第三层CNN\n",
    "        self.cnn3 = torch.nn.Conv2d(in_channels=32,\n",
    "                                    out_channels=128,\n",
    "                                    kernel_size=7,\n",
    "                                    stride=1,\n",
    "                                    padding=0)\n",
    "\n",
    "        # 激活函数\n",
    "        self.relu = torch.nn.ReLU()\n",
    "\n",
    "        # 全连接层\n",
    "        self.fc = torch.nn.Linear(in_features=128, out_features=10)\n",
    "\n",
    "    def forward(self, x):\n",
    "        # 进入CNN1\n",
    "        x = self.cnn1(x)\n",
    "        x = self.relu(x)\n",
    "\n",
    "        # CNN2\n",
    "        x = self.cnn2(x)\n",
    "        x = self.relu(x)\n",
    "\n",
    "        # 池化层\n",
    "        x = self.pool(x)\n",
    "\n",
    "        # CNN3\n",
    "        x = self.cnn3(x)\n",
    "        x = self.relu(x)\n",
    "\n",
    "        # 张量展平成一维\n",
    "        x = x.flatten(start_dim=1)\n",
    "\n",
    "        # 进入全连接层\n",
    "        x = self.fc(x)\n",
    "        return x"
   ]
  },
  {
   "cell_type": "code",
   "execution_count": 9,
   "id": "4a0b124e",
   "metadata": {},
   "outputs": [
    {
     "data": {
      "text/plain": [
       "CNNModule(\n",
       "  (cnn1): Conv2d(3, 16, kernel_size=(5, 5), stride=(2, 2))\n",
       "  (cnn2): Conv2d(16, 32, kernel_size=(3, 3), stride=(1, 1), padding=(1, 1))\n",
       "  (pool): MaxPool2d(kernel_size=2, stride=2, padding=0, dilation=1, ceil_mode=False)\n",
       "  (cnn3): Conv2d(32, 128, kernel_size=(7, 7), stride=(1, 1))\n",
       "  (relu): ReLU()\n",
       "  (fc): Linear(in_features=128, out_features=10, bias=True)\n",
       ")"
      ]
     },
     "execution_count": 9,
     "metadata": {},
     "output_type": "execute_result"
    }
   ],
   "source": [
    "#\n",
    "model=CNNModule()\n",
    "model.to(device)"
   ]
  },
  {
   "cell_type": "code",
   "execution_count": 10,
   "id": "182578bd",
   "metadata": {},
   "outputs": [],
   "source": [
    "def train():\n",
    "    optimizer= torch.optim.Adam(model.parameters(),lr=1e-3)\n",
    "    loss_fu=torch.nn.CrossEntropyLoss()\n",
    "    loss_fu.to(device)\n",
    "    model.train()\n",
    "\n",
    "\n",
    "    for epoch in range(epochs):\n",
    "        for i,(x,y) in enumerate(loader):\n",
    "\n",
    "            #数据移到GPU\n",
    "            x=x.to(device)\n",
    "            y=y.to(device)\n",
    "\n",
    "            #forward\n",
    "            out=model(x)\n",
    "            loss=loss_fu(out,y)\n",
    "\n",
    "            #backward\n",
    "            loss.backward()\n",
    "            optimizer.step()\n",
    "            optimizer.zero_grad()\n",
    "\n",
    "            if i% 2000==0:\n",
    "                acc= (out.argmax(dim=1)==y).sum().item()/len(y)\n",
    "                print(epoch,i,loss.item(),acc)\n",
    "\n",
    "    torch.save(model,'cnn.model')\n"
   ]
  },
  {
   "cell_type": "code",
   "execution_count": 11,
   "id": "28310a6c",
   "metadata": {},
   "outputs": [
    {
     "name": "stdout",
     "output_type": "stream",
     "text": [
      "0 0 2.306580066680908 0.25\n",
      "0 2000 0.9257637858390808 0.625\n",
      "0 4000 1.4971426725387573 0.5\n",
      "0 6000 1.1215736865997314 0.5\n",
      "1 0 1.01800537109375 0.625\n",
      "1 2000 1.233528971672058 0.625\n",
      "1 4000 0.7819304466247559 0.75\n",
      "1 6000 1.517415165901184 0.5\n",
      "2 0 0.9943893551826477 0.375\n",
      "2 2000 1.5049068927764893 0.375\n",
      "2 4000 0.9782319068908691 0.5\n",
      "2 6000 2.0092337131500244 0.375\n",
      "3 0 0.5837476849555969 0.75\n",
      "3 2000 0.7204196453094482 0.625\n",
      "3 4000 1.3456692695617676 0.625\n",
      "3 6000 1.6329982280731201 0.375\n",
      "4 0 1.0683062076568604 0.5\n",
      "4 2000 0.7371273636817932 0.75\n",
      "4 4000 0.2532336115837097 0.875\n",
      "4 6000 0.38516801595687866 0.875\n",
      "5 0 0.21899628639221191 1.0\n",
      "5 2000 0.3681996762752533 0.875\n",
      "5 4000 1.2307730913162231 0.5\n",
      "5 6000 0.12378639727830887 1.0\n",
      "6 0 0.6002645492553711 0.75\n",
      "6 2000 0.954902172088623 0.75\n",
      "6 4000 0.6272275447845459 0.625\n",
      "6 6000 0.5577312707901001 0.75\n",
      "7 0 0.9440266489982605 0.625\n",
      "7 2000 0.7469991445541382 0.75\n",
      "7 4000 1.3517078161239624 0.5\n",
      "7 6000 1.004006266593933 0.75\n",
      "8 0 0.4649518132209778 0.625\n",
      "8 2000 1.0058376789093018 0.625\n",
      "8 4000 0.36020156741142273 1.0\n",
      "8 6000 0.28762608766555786 0.875\n",
      "9 0 0.467252641916275 0.875\n",
      "9 2000 0.6717765927314758 0.75\n",
      "9 4000 1.2457119226455688 0.625\n",
      "9 6000 0.6481055617332458 0.75\n"
     ]
    }
   ],
   "source": [
    "train()"
   ]
  },
  {
   "cell_type": "code",
   "execution_count": 12,
   "id": "e64f9bb5",
   "metadata": {},
   "outputs": [],
   "source": [
    "#测试\n",
    "@torch.no_grad()\n",
    "def test():\n",
    "    model=torch.load(\"cnn.model\")\n",
    "    \n",
    "    model.to(device)\n",
    "\n",
    "    model.eval()\n",
    "\n",
    "    correct=0\n",
    "    total=0\n",
    "    for i in range(100):\n",
    "        x,y=next(iter(loader))\n",
    "\n",
    "\n",
    "        #GPU\n",
    "        x=x.to(device)\n",
    "        y=y.to(device)\n",
    "\n",
    "\n",
    "        out=model(x).argmax(dim=1)\n",
    "\n",
    "        correct+=(out==y).sum().item()\n",
    "        total+=len(y)\n",
    "\n",
    "    print(correct/total)\n"
   ]
  },
  {
   "cell_type": "code",
   "execution_count": 13,
   "id": "dc0bf962",
   "metadata": {},
   "outputs": [
    {
     "name": "stdout",
     "output_type": "stream",
     "text": [
      "0.86\n"
     ]
    }
   ],
   "source": [
    "test()"
   ]
  },
  {
   "cell_type": "code",
   "execution_count": null,
   "id": "fe90364d",
   "metadata": {},
   "outputs": [],
   "source": []
  },
  {
   "cell_type": "code",
   "execution_count": null,
   "id": "76661174",
   "metadata": {},
   "outputs": [],
   "source": []
  }
 ],
 "metadata": {
  "kernelspec": {
   "display_name": "pytorch",
   "language": "python",
   "name": "pytorch"
  },
  "language_info": {
   "codemirror_mode": {
    "name": "ipython",
    "version": 3
   },
   "file_extension": ".py",
   "mimetype": "text/x-python",
   "name": "python",
   "nbconvert_exporter": "python",
   "pygments_lexer": "ipython3",
   "version": "3.8.18"
  }
 },
 "nbformat": 4,
 "nbformat_minor": 5
}
